{
 "cells": [
  {
   "cell_type": "code",
   "execution_count": 1,
   "metadata": {},
   "outputs": [],
   "source": [
    "#https://github.com/ibaiGorordo/ONNX-YOLOv8-Object-Detection/blob/main/image_object_detection.py\n",
    "#https://docs.ultralytics.com/integrations/onnx/#installation\n",
    "#https://besjournals.onlinelibrary.wiley.com/doi/full/10.1111/2041-210X.14036\n",
    "#https://onlinelibrary.wiley.com/doi/10.1002/ece3.8127\n",
    "#https://www.amazon.co.jp/Vesonn-64GB%E3%81%AEMicroSD%E3%82%AB%E3%83%BC%E3%83%89-USB-Type-C-%E3%82%A2%E3%82%AF%E3%83%86%E3%82%A3%E3%83%96%E5%86%B7%E5%8D%B4%E3%83%92%E3%83%BC%E3%83%88%E3%82%B7%E3%83%B3%E3%82%AF-HDMI%E3%82%B1%E3%83%BC%E3%83%96%E3%83%AB%E3%83%A9%E3%82%A4%E3%83%B3/dp/B0CVTT9VG8/ref=sr_1_12?__mk_ja_JP=%E3%82%AB%E3%82%BF%E3%82%AB%E3%83%8A&crid=1HN0GZP068I9Q&dib=eyJ2IjoiMSJ9.LfOGlBMdY0FqOrlFiVjFzjKNQOWhOJzRe1nfTMnq5YvXHFegJYqCPfOH86sjmPFO_DLCm7Smaxq-gOZDu-Eni7A5RlAzjAUEuFRshFQ0pQpl0J6r3ixTZrcuRrwT-gEbvBrMN87BbvbyeU6J8pK9mqCIq00dWanSgNX8VCGBbAyFClh_m2kVwu6oQtTf5VmqD8j9RAjre3HEDYVi3DV05b6k8HJExOR-0hnZ3wVMBrQ0s9COMSzUpH7aupFFC-YCisty54N4Yf9D7SDfHz6zPAmhq5i69QdrA5_dvV8hUnI.y-EEZUJ6sDyBaeAkucYjgcuyDPs6_5H1kCnbkQZz6tU&dib_tag=se&keywords=GSM%2Bmodule%2BRaspberry%2Bpi&qid=1720358931&sprefix=gsm%2Bmodule%2Braspberry%2Bpi%2Caps%2C163&sr=8-12&th=1\n",
    "from ultralytics import YOLO\n",
    "import torch\n",
    "import sys\n",
    "import cv2"
   ]
  },
  {
   "cell_type": "code",
   "execution_count": null,
   "metadata": {},
   "outputs": [],
   "source": [
    "model = YOLO(\"yolov8n-oiv7.pt\")  # Initialize the YOLO model with a pretrained checkpoint.\n",
    "\n",
    "# Train the model using a configuration file (\"detect.yaml\") for 3 epochs.\n",
    "model.train(epochs=500, data=\"detect.yaml\",  batch = 4, imgsz = 640)\n",
    "\n",
    "# Calculate metrics on the validation set.\n",
    "metrics = model.val()\n",
    "\n",
    "# Perform inference on an image.\n",
    "#results = model(\"train/images/image_44.jpg\")\n",
    "\n",
    "# Export the model in ONNX format and store the path in the 'path' variable.\n",
    "model.export(format = \"onnx\")  "
   ]
  }
 ],
 "metadata": {
  "kernelspec": {
   "display_name": "pytorch-env",
   "language": "python",
   "name": "python3"
  },
  "language_info": {
   "codemirror_mode": {
    "name": "ipython",
    "version": 3
   },
   "file_extension": ".py",
   "mimetype": "text/x-python",
   "name": "python",
   "nbconvert_exporter": "python",
   "pygments_lexer": "ipython3",
   "version": "3.10.9"
  }
 },
 "nbformat": 4,
 "nbformat_minor": 2
}
